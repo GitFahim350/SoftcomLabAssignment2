{
  "nbformat": 4,
  "nbformat_minor": 0,
  "metadata": {
    "colab": {
      "name": "170104111_Experiment2 (1).ipynb",
      "provenance": [],
      "collapsed_sections": []
    },
    "kernelspec": {
      "display_name": "Python 3",
      "name": "python3"
    },
    "language_info": {
      "name": "python"
    }
  },
  "cells": [
    {
      "cell_type": "code",
      "metadata": {
        "id": "1hen4ojHzI1O"
      },
      "source": [
        "import numpy as np\n",
        "import pandas as pd\n",
        "import torch\n",
        "import torch.nn as nn\n",
        "import torch.nn.functional as F\n",
        "import torch.optim as optim\n",
        "from torch.utils.data import Dataset\n",
        "from torch.utils.data.sampler import SubsetRandomSampler\n",
        "import matplotlib\n",
        "import matplotlib.pyplot as plt\n",
        "from PIL import Image\n",
        "from torchvision import datasets, transforms, models\n",
        "from torch.autograd import Variable\n",
        "from zipfile import ZipFile\n",
        "import os\n",
        "from os import path\n",
        "import shutil"
      ],
      "execution_count": null,
      "outputs": []
    },
    {
      "cell_type": "code",
      "metadata": {
        "id": "Q_4G6XUSzLt6",
        "colab": {
          "base_uri": "https://localhost:8080/"
        },
        "outputId": "04cb49be-bee1-432c-a9b7-e744b710322d"
      },
      "source": [
        "from google.colab import drive\n",
        "drive.mount('/content/drive')\n",
        "url = '/content/drive/MyDrive/dataset/'"
      ],
      "execution_count": null,
      "outputs": [
        {
          "output_type": "stream",
          "name": "stdout",
          "text": [
            "Mounted at /content/drive\n"
          ]
        }
      ]
    },
    {
      "cell_type": "code",
      "metadata": {
        "id": "mILHAHnczPlL"
      },
      "source": [
        "dataset_C = url + 'Dataset C.zip'\n",
        "with ZipFile(dataset_C, 'r') as zip:\n",
        "  zip.extractall()"
      ],
      "execution_count": null,
      "outputs": []
    },
    {
      "cell_type": "code",
      "metadata": {
        "colab": {
          "base_uri": "https://localhost:8080/",
          "height": 220
        },
        "id": "DoQew-ifP_oO",
        "outputId": "78c66c68-78c1-41c7-bcea-e71ec89ea7e8"
      },
      "source": [
        "PATH = '/content/'\n",
        "data_labels = pd.read_csv(PATH + 'training-c.csv', usecols = ['filename', 'digit'])\n",
        "print(data_labels.shape)\n",
        "data_labels.head()"
      ],
      "execution_count": null,
      "outputs": [
        {
          "output_type": "stream",
          "name": "stdout",
          "text": [
            "(24298, 2)\n"
          ]
        },
        {
          "output_type": "execute_result",
          "data": {
            "text/html": [
              "<div>\n",
              "<style scoped>\n",
              "    .dataframe tbody tr th:only-of-type {\n",
              "        vertical-align: middle;\n",
              "    }\n",
              "\n",
              "    .dataframe tbody tr th {\n",
              "        vertical-align: top;\n",
              "    }\n",
              "\n",
              "    .dataframe thead th {\n",
              "        text-align: right;\n",
              "    }\n",
              "</style>\n",
              "<table border=\"1\" class=\"dataframe\">\n",
              "  <thead>\n",
              "    <tr style=\"text-align: right;\">\n",
              "      <th></th>\n",
              "      <th>filename</th>\n",
              "      <th>digit</th>\n",
              "    </tr>\n",
              "  </thead>\n",
              "  <tbody>\n",
              "    <tr>\n",
              "      <th>0</th>\n",
              "      <td>c00000.png</td>\n",
              "      <td>6</td>\n",
              "    </tr>\n",
              "    <tr>\n",
              "      <th>1</th>\n",
              "      <td>c00001.png</td>\n",
              "      <td>1</td>\n",
              "    </tr>\n",
              "    <tr>\n",
              "      <th>2</th>\n",
              "      <td>c00002.png</td>\n",
              "      <td>3</td>\n",
              "    </tr>\n",
              "    <tr>\n",
              "      <th>3</th>\n",
              "      <td>c00003.png</td>\n",
              "      <td>2</td>\n",
              "    </tr>\n",
              "    <tr>\n",
              "      <th>4</th>\n",
              "      <td>c00004.png</td>\n",
              "      <td>7</td>\n",
              "    </tr>\n",
              "  </tbody>\n",
              "</table>\n",
              "</div>"
            ],
            "text/plain": [
              "     filename  digit\n",
              "0  c00000.png      6\n",
              "1  c00001.png      1\n",
              "2  c00002.png      3\n",
              "3  c00003.png      2\n",
              "4  c00004.png      7"
            ]
          },
          "metadata": {},
          "execution_count": 4
        }
      ]
    },
    {
      "cell_type": "code",
      "metadata": {
        "id": "jYo9C4AwbkJb"
      },
      "source": [
        "TRAIN_PATH = url + 'Classify numbers'"
      ],
      "execution_count": null,
      "outputs": []
    },
    {
      "cell_type": "code",
      "metadata": {
        "id": "zhs9ACb1zS47"
      },
      "source": [
        "os.mkdir(TRAIN_PATH)\n",
        "\n",
        "def processImages(folder_name):\n",
        "  src = PATH + folder_name + '/'\n",
        "  dir_folders = os.listdir(src)\n",
        "  for dir_name in dir_folders:\n",
        "    file_name = os.path.join(src, dir_name)\n",
        "    if os.path.isfile(file_name):\n",
        "      shutil.copy(file_name, TRAIN_PATH) \n",
        "\n",
        "processImages('training-c')"
      ],
      "execution_count": null,
      "outputs": []
    },
    {
      "cell_type": "code",
      "metadata": {
        "id": "J4l1Divk0nLy"
      },
      "source": [
        "class Dataset(Dataset):\n",
        "    def __init__(self, df, root, transform=None):\n",
        "        self.data = df\n",
        "        self.root = root\n",
        "        self.transform = transform\n",
        "        \n",
        "    def __len__(self):\n",
        "        return len(self.data)\n",
        "    \n",
        "    def __getitem__(self, index):\n",
        "        item = self.data.iloc[index]\n",
        "        \n",
        "        path = self.root + \"/\" + item[0]\n",
        "        image = Image.open(path).convert('L')\n",
        "        label = item[1]\n",
        "        \n",
        "        if self.transform is not None:\n",
        "            image = self.transform(image)\n",
        "            \n",
        "        return image, label"
      ],
      "execution_count": null,
      "outputs": []
    },
    {
      "cell_type": "code",
      "metadata": {
        "colab": {
          "base_uri": "https://localhost:8080/"
        },
        "id": "CRegpB521eKq",
        "outputId": "841ff4f1-97ec-49ab-d28b-76d0434a89d2"
      },
      "source": [
        "mean = [0.5,]\n",
        "std = [0.5, ]\n",
        "\n",
        "train_transform = transforms.Compose([\n",
        "    transforms.Resize(28),\n",
        "    transforms.ToTensor(),\n",
        "    transforms.Normalize(mean, std)\n",
        "])\n",
        "\n",
        "test_transform = transforms.Compose([\n",
        "        transforms.Resize(28),\n",
        "        transforms.ToTensor(),\n",
        "        transforms.Normalize(mean, std)\n",
        "])\n",
        "\n",
        "train_data  = Dataset(data_labels, TRAIN_PATH, train_transform)\n",
        "test_data = Dataset(data_labels, TRAIN_PATH, test_transform)\n",
        "\n",
        "print(\"Trainig Samples: \", len(train_data))"
      ],
      "execution_count": null,
      "outputs": [
        {
          "output_type": "stream",
          "name": "stdout",
          "text": [
            "Trainig Samples:  24298\n"
          ]
        }
      ]
    },
    {
      "cell_type": "code",
      "metadata": {
        "id": "kIWasz2YAMGr"
      },
      "source": [
        ""
      ],
      "execution_count": null,
      "outputs": []
    },
    {
      "cell_type": "markdown",
      "metadata": {
        "id": "lb_b9B6EAYmP"
      },
      "source": [
        "# **Experiment 2**"
      ]
    },
    {
      "cell_type": "code",
      "metadata": {
        "colab": {
          "base_uri": "https://localhost:8080/"
        },
        "id": "ZBKzg1IpAko9",
        "outputId": "531a5515-eb4b-450f-ceec-cd9215837377"
      },
      "source": [
        "#Batch Parameters\n",
        "batch_size = 100\n",
        "num_iters = 20000\n",
        "input_dim = 28*28\n",
        "num_hidden = 100\n",
        "output_dim = 10\n",
        "\n",
        "learning_rate = 0.001\n",
        "\n",
        "num_epochs = num_iters / (len(train_data) / batch_size)\n",
        "num_epochs = int(num_epochs)\n",
        "print(num_epochs)\n",
        "\n",
        "device = torch.device(\"cuda:0\" if torch.cuda.is_available() else \"cpu\")"
      ],
      "execution_count": null,
      "outputs": [
        {
          "output_type": "stream",
          "name": "stdout",
          "text": [
            "82\n"
          ]
        }
      ]
    },
    {
      "cell_type": "code",
      "metadata": {
        "colab": {
          "base_uri": "https://localhost:8080/"
        },
        "id": "1zAeuK55CH8t",
        "outputId": "eb0d31da-0bad-406f-9b20-c69b8879ce3b"
      },
      "source": [
        "test_size = 0.2\n",
        "num_train = len(train_data)\n",
        "indices = list(range(num_train))\n",
        "np.random.shuffle(indices)\n",
        "split = int(np.floor(test_size * num_train))\n",
        "train_idx, test_idx = indices[split:], indices[:split]\n",
        "\n",
        "train_sampler = SubsetRandomSampler(train_idx)\n",
        "test_sampler = SubsetRandomSampler(test_idx)\n",
        "\n",
        "train_loader = torch.utils.data.DataLoader(\n",
        "    train_data, batch_size=batch_size,\n",
        "    sampler=train_sampler)\n",
        "\n",
        "test_loader = torch.utils.data.DataLoader(\n",
        "    test_data, batch_size=batch_size,\n",
        "    sampler=test_sampler)\n",
        "\n",
        "print(\"Train dataloader:{}\".format(len(train_loader)))\n",
        "print(\"Test dataloader:{}\".format(len(test_loader)))"
      ],
      "execution_count": null,
      "outputs": [
        {
          "output_type": "stream",
          "name": "stdout",
          "text": [
            "Train dataloader:195\n",
            "Test dataloader:49\n"
          ]
        }
      ]
    },
    {
      "cell_type": "code",
      "metadata": {
        "id": "q8W9e4T1CJ6F"
      },
      "source": [
        "class DeepNeuralNetworkModel(nn.Module):\n",
        "    def __init__(self, input_size, num_classes, num_hidden):\n",
        "        super().__init__()\n",
        "\n",
        "       #First Hidden Layer\n",
        "        self.linear_1 = nn.Linear(input_size, num_hidden)\n",
        "        self.relu_1 = nn.ReLU()\n",
        "\n",
        "        #2nd Hidden Layer\n",
        "        self.linear_2 = nn.Linear(num_hidden, num_hidden)\n",
        "        self.relu_2 = nn.Tanh()\n",
        "\n",
        "         #3rd Hidden Layer\n",
        "        self.linear_3 = nn.Linear(num_hidden, num_hidden)\n",
        "        self.relu_3 = nn.Tanh()\n",
        "\n",
        "         #4th Hidden Layer\n",
        "        self.linear_4 = nn.Linear(num_hidden, num_hidden)\n",
        "        self.relu_4 = nn.Softmax(dim=0)\n",
        "\n",
        "        #  #5th Hidden Layer\n",
        "        # self.linear_5= nn.Linear(num_hidden, num_hidden)\n",
        "        # self.relu_5= nn.Tanh()\n",
        "        \n",
        "        # #6th Hidden Layer\n",
        "        # self.linear_6 = nn.Linear(num_hidden, num_hidden)\n",
        "        # self.relu_6 = nn.Tanh()\n",
        "\n",
        "\n",
        " \n",
        "        self.linear_out = nn.Linear(num_hidden, num_classes)\n",
        " \n",
        "    def forward(self, x):\n",
        "        out  = self.linear_1(x)\n",
        "        out = self.relu_1(out)\n",
        "        \n",
        "        out  = self.linear_2(out)\n",
        "        out = self.relu_2(out)\n",
        " \n",
        "        out  = self.linear_3(out)\n",
        "        out = self.relu_3(out)\n",
        " \n",
        "        out  = self.linear_4(out)\n",
        "        out = self.relu_4(out)\n",
        " \n",
        "        # out  = self.linear_5(out)\n",
        "        # out = self.relu_5(out)\n",
        " \n",
        "        # out  = self.linear_6(out)\n",
        "        # out = self.relu_6(out)\n",
        "\n",
        "\n",
        "        \n",
        "        \n",
        "        probas  = self.linear_out(out)\n",
        "        return probas"
      ],
      "execution_count": null,
      "outputs": []
    },
    {
      "cell_type": "code",
      "metadata": {
        "colab": {
          "base_uri": "https://localhost:8080/"
        },
        "id": "uZn9wJWrTmkE",
        "outputId": "d9910750-82be-4a58-b88f-4084871df981"
      },
      "source": [
        "model = DeepNeuralNetworkModel(input_size = input_dim, num_classes = output_dim, num_hidden = num_hidden)\n",
        "model.to(device)"
      ],
      "execution_count": null,
      "outputs": [
        {
          "output_type": "execute_result",
          "data": {
            "text/plain": [
              "DeepNeuralNetworkModel(\n",
              "  (linear_1): Linear(in_features=784, out_features=100, bias=True)\n",
              "  (relu_1): ReLU()\n",
              "  (linear_2): Linear(in_features=100, out_features=100, bias=True)\n",
              "  (relu_2): Tanh()\n",
              "  (linear_3): Linear(in_features=100, out_features=100, bias=True)\n",
              "  (relu_3): Tanh()\n",
              "  (linear_4): Linear(in_features=100, out_features=100, bias=True)\n",
              "  (relu_4): Softmax(dim=0)\n",
              "  (linear_out): Linear(in_features=100, out_features=10, bias=True)\n",
              ")"
            ]
          },
          "metadata": {},
          "execution_count": 45
        }
      ]
    },
    {
      "cell_type": "code",
      "metadata": {
        "id": "MAPcDAJtT5-Q"
      },
      "source": [
        "criterion = nn.CrossEntropyLoss()\n",
        "optimizer = torch.optim.Adam(model.parameters(), lr = learning_rate)"
      ],
      "execution_count": null,
      "outputs": []
    },
    {
      "cell_type": "code",
      "metadata": {
        "colab": {
          "base_uri": "https://localhost:8080/"
        },
        "id": "r3JQLXFgT7iq",
        "outputId": "0e6fbfc9-33af-4c0a-b82a-4c07e6e242f6"
      },
      "source": [
        "iteration_loss = []\n",
        "iter = 0\n",
        "for epoch in range(num_epochs):\n",
        "    print('Epoch: ', epoch + 1)\n",
        "    for i, (images, labels) in enumerate(train_loader):\n",
        "\n",
        "        images = images.view(-1, 28*28).to(device)\n",
        "        labels = labels.to(device)\n",
        "\n",
        "        optimizer.zero_grad()\n",
        "\n",
        "        outputs = model(images) \n",
        "\n",
        "        loss = criterion(outputs, labels)\n",
        "\n",
        "        loss.backward()\n",
        "\n",
        "        optimizer.step()\n",
        "\n",
        "        iter += 1\n",
        "\n",
        "        if iter % 500 == 0:        \n",
        "            correct = 0\n",
        "            total = 0\n",
        "            for images, labels in test_loader:\n",
        "               \n",
        "                images = images.view(-1, 28*28).to(device)\n",
        "\n",
        "                outputs = model(images)\n",
        "\n",
        "                _, predicted = torch.max(outputs, 1)\n",
        "\n",
        "                total += labels.size(0)\n",
        "\n",
        "                if torch.cuda.is_available():\n",
        "                    correct += (predicted.cpu() == labels.cpu()).sum() \n",
        "                else:\n",
        "                    correct += (predicted == labels).sum()\n",
        "\n",
        "            accuracy = 100 * correct.item() / total\n",
        "\n",
        "            iteration_loss.append(loss.item())\n",
        "            print('Iteration: {}. Loss: {}. Accuracy: {}'.format(iter, loss.item(), accuracy))"
      ],
      "execution_count": null,
      "outputs": [
        {
          "output_type": "stream",
          "name": "stdout",
          "text": [
            "Epoch:  1\n",
            "Epoch:  2\n",
            "Epoch:  3\n",
            "Iteration: 500. Loss: 2.2354726791381836. Accuracy: 18.831035192426427\n",
            "Epoch:  4\n",
            "Epoch:  5\n",
            "Epoch:  6\n",
            "Iteration: 1000. Loss: 2.064074993133545. Accuracy: 26.589833299032723\n",
            "Epoch:  7\n",
            "Epoch:  8\n",
            "Iteration: 1500. Loss: 1.9832240343093872. Accuracy: 27.989298209508128\n",
            "Epoch:  9\n",
            "Epoch:  10\n",
            "Epoch:  11\n",
            "Iteration: 2000. Loss: 1.9765340089797974. Accuracy: 29.51224531796666\n",
            "Epoch:  12\n",
            "Epoch:  13\n",
            "Iteration: 2500. Loss: 1.907224416732788. Accuracy: 29.26528092200041\n",
            "Epoch:  14\n",
            "Epoch:  15\n",
            "Epoch:  16\n",
            "Iteration: 3000. Loss: 1.9222133159637451. Accuracy: 29.368182753653016\n",
            "Epoch:  17\n",
            "Epoch:  18\n",
            "Iteration: 3500. Loss: 2.0865371227264404. Accuracy: 30.41778143650957\n",
            "Epoch:  19\n",
            "Epoch:  20\n",
            "Epoch:  21\n",
            "Iteration: 4000. Loss: 1.7422126531600952. Accuracy: 31.32331755505248\n",
            "Epoch:  22\n",
            "Epoch:  23\n",
            "Epoch:  24\n",
            "Iteration: 4500. Loss: 1.7771310806274414. Accuracy: 34.51327433628319\n",
            "Epoch:  25\n",
            "Epoch:  26\n",
            "Iteration: 5000. Loss: 1.8643252849578857. Accuracy: 35.33648898950401\n",
            "Epoch:  27\n",
            "Epoch:  28\n",
            "Epoch:  29\n",
            "Iteration: 5500. Loss: 1.810043454170227. Accuracy: 34.36921177196954\n",
            "Epoch:  30\n",
            "Epoch:  31\n",
            "Iteration: 6000. Loss: 1.8611745834350586. Accuracy: 34.47211360362214\n",
            "Epoch:  32\n",
            "Epoch:  33\n",
            "Epoch:  34\n",
            "Iteration: 6500. Loss: 1.7566757202148438. Accuracy: 37.97077587981066\n",
            "Epoch:  35\n",
            "Epoch:  36\n",
            "Iteration: 7000. Loss: 1.7071903944015503. Accuracy: 40.790286067092\n",
            "Epoch:  37\n",
            "Epoch:  38\n",
            "Epoch:  39\n",
            "Iteration: 7500. Loss: 1.714668869972229. Accuracy: 39.884749948549086\n",
            "Epoch:  40\n",
            "Epoch:  41\n",
            "Epoch:  42\n",
            "Iteration: 8000. Loss: 1.5962833166122437. Accuracy: 38.52644577073472\n",
            "Epoch:  43\n",
            "Epoch:  44\n",
            "Iteration: 8500. Loss: 1.6280279159545898. Accuracy: 46.42930644165466\n",
            "Epoch:  45\n",
            "Epoch:  46\n",
            "Epoch:  47\n",
            "Iteration: 9000. Loss: 1.5612317323684692. Accuracy: 47.23194072854497\n",
            "Epoch:  48\n",
            "Epoch:  49\n",
            "Iteration: 9500. Loss: 1.4404290914535522. Accuracy: 46.94381559991768\n",
            "Epoch:  50\n",
            "Epoch:  51\n",
            "Epoch:  52\n",
            "Iteration: 10000. Loss: 1.5081350803375244. Accuracy: 48.46676270837621\n",
            "Epoch:  53\n",
            "Epoch:  54\n",
            "Iteration: 10500. Loss: 1.3663979768753052. Accuracy: 50.97756740069973\n",
            "Epoch:  55\n",
            "Epoch:  56\n",
            "Epoch:  57\n",
            "Iteration: 11000. Loss: 1.3134446144104004. Accuracy: 50.27783494546203\n",
            "Epoch:  58\n",
            "Epoch:  59\n",
            "Iteration: 11500. Loss: 1.2197321653366089. Accuracy: 50.83350483638609\n",
            "Epoch:  60\n",
            "Epoch:  61\n",
            "Epoch:  62\n",
            "Iteration: 12000. Loss: 1.4061408042907715. Accuracy: 52.17122864786993\n",
            "Epoch:  63\n",
            "Epoch:  64\n",
            "Epoch:  65\n",
            "Iteration: 12500. Loss: 1.2965147495269775. Accuracy: 51.8419427865816\n",
            "Epoch:  66\n",
            "Epoch:  67\n",
            "Iteration: 13000. Loss: 1.2832353115081787. Accuracy: 56.513685943609794\n",
            "Epoch:  68\n",
            "Epoch:  69\n",
            "Epoch:  70\n",
            "Iteration: 13500. Loss: 1.157793402671814. Accuracy: 55.60814982506689\n",
            "Epoch:  71\n",
            "Epoch:  72\n",
            "Iteration: 14000. Loss: 1.2778902053833008. Accuracy: 57.19283803251698\n",
            "Epoch:  73\n",
            "Epoch:  74\n",
            "Epoch:  75\n",
            "Iteration: 14500. Loss: 1.2468066215515137. Accuracy: 56.45194484461823\n",
            "Epoch:  76\n",
            "Epoch:  77\n",
            "Iteration: 15000. Loss: 1.1584131717681885. Accuracy: 58.75694587363655\n",
            "Epoch:  78\n",
            "Epoch:  79\n",
            "Epoch:  80\n",
            "Iteration: 15500. Loss: 1.1759659051895142. Accuracy: 60.156410784111955\n",
            "Epoch:  81\n",
            "Epoch:  82\n"
          ]
        }
      ]
    },
    {
      "cell_type": "code",
      "metadata": {
        "colab": {
          "base_uri": "https://localhost:8080/",
          "height": 316
        },
        "id": "MV7HyMqYERLY",
        "outputId": "9936262a-6d5f-4600-9c8b-32b6e5d90114"
      },
      "source": [
        "print (iteration_loss)\n",
        "plt.plot(iteration_loss)\n",
        "plt.ylabel('Loss')\n",
        "plt.xlabel('Iteration')\n",
        "plt.show()"
      ],
      "execution_count": null,
      "outputs": [
        {
          "output_type": "stream",
          "name": "stdout",
          "text": [
            "[2.2354726791381836, 2.064074993133545, 1.9832240343093872, 1.9765340089797974, 1.907224416732788, 1.9222133159637451, 2.0865371227264404, 1.7422126531600952, 1.7771310806274414, 1.8643252849578857, 1.810043454170227, 1.8611745834350586, 1.7566757202148438, 1.7071903944015503, 1.714668869972229, 1.5962833166122437, 1.6280279159545898, 1.5612317323684692, 1.4404290914535522, 1.5081350803375244, 1.3663979768753052, 1.3134446144104004, 1.2197321653366089, 1.4061408042907715, 1.2965147495269775, 1.2832353115081787, 1.157793402671814, 1.2778902053833008, 1.2468066215515137, 1.1584131717681885, 1.1759659051895142]\n"
          ]
        },
        {
          "output_type": "display_data",
          "data": {
            "image/png": "[encoded data removed]",
            "text/plain": [
              "<Figure size 432x288 with 1 Axes>"
            ]
          },
          "metadata": {
            "needs_background": "light"
          }
        }
      ]
    }
  ]
}