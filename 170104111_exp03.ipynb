{
  "nbformat": 4,
  "nbformat_minor": 0,
  "metadata": {
    "colab": {
      "name": "Experiment_3.ipynb",
      "provenance": [],
      "collapsed_sections": []
    },
    "kernelspec": {
      "name": "python3",
      "display_name": "Python 3"
    },
    "language_info": {
      "name": "python"
    },
    "accelerator": "GPU"
  },
  "cells": [
    {
      "cell_type": "code",
      "metadata": {
        "id": "HT9i40sMM5lt"
      },
      "source": [
        "import os\n",
        "import pandas as pd\n",
        "import torch\n",
        "from torch.utils.data import Dataset, DataLoader  \n",
        "from skimage import io"
      ],
      "execution_count": 1,
      "outputs": []
    },
    {
      "cell_type": "code",
      "metadata": {
        "id": "EvahDt2be8xz"
      },
      "source": [
        "import torch\n",
        "import torch.nn as nn\n",
        "import torchvision.transforms as transforms"
      ],
      "execution_count": 2,
      "outputs": []
    },
    {
      "cell_type": "code",
      "metadata": {
        "id": "USeZSXxquQUZ"
      },
      "source": [
        ""
      ],
      "execution_count": null,
      "outputs": []
    },
    {
      "cell_type": "code",
      "metadata": {
        "colab": {
          "base_uri": "https://localhost:8080/"
        },
        "id": "cjT53blqLYw3",
        "outputId": "6373572b-3e5d-4729-b9fa-f4cea550ab19"
      },
      "source": [
        "from google.colab import drive\n",
        "drive.mount('/content/drive')"
      ],
      "execution_count": 3,
      "outputs": [
        {
          "output_type": "stream",
          "name": "stdout",
          "text": [
            "Mounted at /content/drive\n"
          ]
        }
      ]
    },
    {
      "cell_type": "markdown",
      "metadata": {
        "id": "CdvCkig7I4fY"
      },
      "source": [
        "# Experiment 3"
      ]
    },
    {
      "cell_type": "code",
      "metadata": {
        "colab": {
          "base_uri": "https://localhost:8080/"
        },
        "id": "my-Lx-VJI5zT",
        "outputId": "9890f19a-c868-4fb5-99d5-faf94c9e78c7"
      },
      "source": [
        "!unzip \"/content/drive/MyDrive/Dataset for Exp3/Dataset_2.zip\""
      ],
      "execution_count": 4,
      "outputs": [
        {
          "output_type": "stream",
          "name": "stdout",
          "text": [
            "Archive:  /content/drive/MyDrive/Dataset for Exp3/Dataset_2.zip\n",
            "   creating: Dataset_2/\n",
            "  inflating: Dataset_2/t10k-images-idx3-ubyte  \n",
            "  inflating: Dataset_2/t10k-labels-idx1-ubyte  \n",
            "  inflating: Dataset_2/train-images-idx3-ubyte  \n",
            "  inflating: Dataset_2/train-labels-idx1-ubyte  \n",
            "  inflating: Dataset_2/verification_test.csv  \n",
            "  inflating: Dataset_2/verification_train.csv  \n"
          ]
        }
      ]
    },
    {
      "cell_type": "code",
      "metadata": {
        "id": "WpoWmdLjJLML"
      },
      "source": [
        "train_csv2  = pd.read_csv('/content/Dataset_2/verification_train.csv')\n",
        "test_csv2 = pd.read_csv('/content/Dataset_2/verification_test.csv')"
      ],
      "execution_count": 5,
      "outputs": []
    },
    {
      "cell_type": "code",
      "metadata": {
        "id": "rtmU_CAKJlVN"
      },
      "source": [
        "import numpy as np\n",
        "class second_Dataset(Dataset):\n",
        "    \"\"\"User defined class to build a datset using Pytorch class Dataset.\"\"\"\n",
        "    \n",
        "    def __init__(self, data, transform = None):\n",
        "        \"\"\"Method to initilaize variables.\"\"\" \n",
        "        self.data_MNIST = list(data.values)\n",
        "        self.transform = transform\n",
        "        \n",
        "        label = []\n",
        "        image = []\n",
        "        \n",
        "        for i in self.data_MNIST:\n",
        "             # first column is of labels.\n",
        "            label.append(i[0])\n",
        "            image.append(i[1:])\n",
        "        self.labels = np.asarray(label)\n",
        "        self.images = np.asarray(image).reshape(-1, 28, 28, 1).astype('float32')\n",
        "\n",
        "    def __getitem__(self, index):\n",
        "        label = self.labels[index]\n",
        "        image = self.images[index]\n",
        "        \n",
        "        if self.transform is not None:\n",
        "            image = self.transform(image)\n",
        "\n",
        "        return image, label\n",
        "\n",
        "    def __len__(self):\n",
        "        return len(self.images)"
      ],
      "execution_count": 6,
      "outputs": []
    },
    {
      "cell_type": "code",
      "metadata": {
        "id": "a1jEAEZCKQIU"
      },
      "source": [
        "train_set = second_Dataset(train_csv2, transform=transforms.Compose([transforms.ToTensor()]))\n",
        "test_set = second_Dataset(test_csv2, transform=transforms.Compose([transforms.ToTensor()]))\n",
        "\n",
        "train_loader = DataLoader(train_set, batch_size=100)\n",
        "test_loader = DataLoader(train_set, batch_size=100)"
      ],
      "execution_count": 9,
      "outputs": []
    },
    {
      "cell_type": "markdown",
      "metadata": {
        "id": "OywTz1uCLg_V"
      },
      "source": [
        "For experiment 1"
      ]
    },
    {
      "cell_type": "code",
      "metadata": {
        "id": "zS6BxZFxxtMk"
      },
      "source": [
        ""
      ],
      "execution_count": null,
      "outputs": []
    },
    {
      "cell_type": "code",
      "metadata": {
        "colab": {
          "base_uri": "https://localhost:8080/"
        },
        "id": "Za7FBndHL3HN",
        "outputId": "3b1d4976-4159-43fe-aff6-d631f501419b"
      },
      "source": [
        "print(len(train_set))\n",
        "print(len(test_set))"
      ],
      "execution_count": 10,
      "outputs": [
        {
          "output_type": "stream",
          "name": "stdout",
          "text": [
            "60000\n",
            "10000\n"
          ]
        }
      ]
    },
    {
      "cell_type": "code",
      "metadata": {
        "colab": {
          "base_uri": "https://localhost:8080/"
        },
        "id": "tdJtSw82MSSB",
        "outputId": "01bec1ba-fc5b-4747-fc9e-5738e60c95f4"
      },
      "source": [
        "# Hyperparameters\n",
        "\n",
        "batch_size = 20\n",
        "num_iters = 20000\n",
        "input_dim = 28*28 # num_features = 784\n",
        "num_hidden = 200 # num of hidden nodes\n",
        "output_dim = 10\n",
        "\n",
        "learning_rate = 0.01  # More power so we can learn faster! previously it was 0.001\n",
        "\n",
        "# Device\n",
        "device = torch.device(\"cuda:0\" if torch.cuda.is_available() else \"cpu\")\n",
        "\n",
        "\n",
        "\n",
        "\n",
        "'''\n",
        "MAKING DATASET ITERABLE\n",
        "'''\n",
        "num_epochs = num_iters / (len(train_set) / batch_size)\n",
        "num_epochs = int(num_epochs)\n",
        "\n",
        "train_loader = torch.utils.data.DataLoader(dataset=train_set, \n",
        "                                           batch_size=batch_size, \n",
        "                                           shuffle=True)   # It's better to shuffle the whole training dataset! \n",
        "\n",
        "test_loader = torch.utils.data.DataLoader(dataset=test_set, \n",
        "                                          batch_size=batch_size, \n",
        "                                          shuffle=False)\n",
        "\n",
        "\n",
        "\n",
        "\n",
        "\n",
        "class DeepNeuralNetworkModel(nn.Module):\n",
        "    def __init__(self, input_size, num_classes, num_hidden):\n",
        "        super().__init__()\n",
        "        ### 1st hidden layer: 784 --> 100\n",
        "        self.linear_1 = nn.Linear(input_size, num_hidden)\n",
        "        ### Non-linearity in 1st hidden layer\n",
        "        self.relu_1 = nn.ReLU()\n",
        "\n",
        "        ### 2nd hidden layer: 100 --> 100\n",
        "        self.linear_2 = nn.Linear(num_hidden, num_hidden)\n",
        "        ### Non-linearity in 2nd hidden layer\n",
        "        self.relu_2 = nn.ReLU()\n",
        "\n",
        "        ### 3rd hidden layer: 100 --> 100\n",
        "        self.linear_3 = nn.Linear(num_hidden, num_hidden)\n",
        "        ### Non-linearity in 2nd hidden layer\n",
        "        self.relu_3 = nn.ReLU()\n",
        "\n",
        "        ### 4th hidden layer: 100 --> 100\n",
        "        self.linear_4 = nn.Linear(num_hidden, num_hidden)\n",
        "        ### Non-linearity in 2nd hidden layer\n",
        "        self.relu_4 = nn.ReLU()\n",
        "\n",
        "        ### 5th hidden layer: 100 --> 100\n",
        "        self.linear_5 = nn.Linear(num_hidden, num_hidden)\n",
        "        ### Non-linearity in 2nd hidden layer\n",
        "        self.relu_5 = nn.ReLU()\n",
        "\n",
        "        ### 6th hidden layer: 100 --> 100\n",
        "        self.linear_6 = nn.Linear(num_hidden, num_hidden)\n",
        "        ### Non-linearity in 2nd hidden layer\n",
        "        self.relu_6 = nn.ReLU()\n",
        "\n",
        "        ### Output layer: 100 --> 10\n",
        "        self.linear_out = nn.Linear(num_hidden, num_classes)\n",
        "\n",
        "    def forward(self, x):\n",
        "        ### 1st hidden layer\n",
        "        out  = self.linear_1(x)\n",
        "        ### Non-linearity in 1st hidden layer\n",
        "        out = self.relu_1(out)\n",
        "        \n",
        "        ### 2nd hidden layer\n",
        "        out  = self.linear_2(out)\n",
        "        ### Non-linearity in 2nd hidden layer\n",
        "        out = self.relu_2(out)\n",
        "        \n",
        "        ### 3rd hidden layer\n",
        "        out  = self.linear_3(out)\n",
        "        ### Non-linearity in 1st hidden layer\n",
        "        out = self.relu_3(out)\n",
        "        \n",
        "        ### 4th hidden layer\n",
        "        out  = self.linear_4(out)\n",
        "        ### Non-linearity in 2nd hidden layer\n",
        "        out = self.relu_4(out)\n",
        "\n",
        "        ### 5th hidden layer\n",
        "        out  = self.linear_5(out)\n",
        "        ### Non-linearity in 1st hidden layer\n",
        "        out = self.relu_5(out)\n",
        "        \n",
        "        ### 6th hidden layer\n",
        "        out  = self.linear_6(out)\n",
        "        ### Non-linearity in 2nd hidden layer\n",
        "        out = self.relu_6(out)\n",
        "     \n",
        "        # Linear layer (output)\n",
        "        probas  = self.linear_out(out)\n",
        "        return probas\n",
        "\n",
        "\n",
        "# INSTANTIATE MODEL CLASS\n",
        "\n",
        "model = DeepNeuralNetworkModel(input_size = input_dim,\n",
        "                               num_classes = output_dim,\n",
        "                               num_hidden = num_hidden)\n",
        "# To enable GPU\n",
        "model.to(device)\n",
        "\n",
        "# INSTANTIATE LOSS & OPTIMIZER CLASS\n",
        "\n",
        "criterion = nn.CrossEntropyLoss()\n",
        "optimizer = torch.optim.SGD(model.parameters(), lr=learning_rate)\n",
        "iteration_loss= []\n",
        "iter = 0\n",
        "for epoch in range(num_epochs):\n",
        "    for i, (images, labels) in enumerate(train_loader):\n",
        "\n",
        "        images = images.view(-1, 28*28).to(device)\n",
        "        labels = labels.to(device)\n",
        "\n",
        "        # Clear gradients w.r.t. parameters\n",
        "        optimizer.zero_grad()\n",
        "\n",
        "        # Forward pass to get output/logits\n",
        "        outputs = model(images) \n",
        "\n",
        "        # Calculate Loss: softmax --> cross entropy loss\n",
        "        loss = criterion(outputs, labels)\n",
        "\n",
        "        # Getting gradients w.r.t. parameters\n",
        "        loss.backward()\n",
        "\n",
        "        # Updating parameters\n",
        "        optimizer.step()\n",
        "\n",
        "        iter += 1\n",
        "\n",
        "        if iter % 500 == 0:\n",
        "            # Calculate Accuracy         \n",
        "            correct = 0\n",
        "            total = 0\n",
        "            # Iterate through test dataset\n",
        "            for images, labels in test_loader:\n",
        "               \n",
        "                images = images.view(-1, 28*28).to(device)\n",
        "\n",
        "                # Forward pass only to get logits/output\n",
        "                outputs = model(images)\n",
        "\n",
        "                # Get predictions from the maximum value\n",
        "                _, predicted = torch.max(outputs, 1)\n",
        "\n",
        "                # Total number of labels\n",
        "                total += labels.size(0)\n",
        "\n",
        "\n",
        "                # Total correct predictions\n",
        "                if torch.cuda.is_available():\n",
        "                    correct += (predicted.cpu() == labels.cpu()).sum() \n",
        "                else:\n",
        "                    correct += (predicted == labels).sum()\n",
        "\n",
        "            accuracy = 100 * correct.item() / total\n",
        "\n",
        "            # Print Loss\n",
        "            iteration_loss.append(loss.item())\n",
        "            print('Iteration: {}. Loss: {}. Accuracy: {}'.format(iter, loss.item(), accuracy))"
      ],
      "execution_count": 11,
      "outputs": [
        {
          "output_type": "stream",
          "name": "stdout",
          "text": [
            "Iteration: 500. Loss: 0.6194232702255249. Accuracy: 76.3\n",
            "Iteration: 1000. Loss: 0.5696229338645935. Accuracy: 80.75\n",
            "Iteration: 1500. Loss: 0.3997284471988678. Accuracy: 80.89\n",
            "Iteration: 2000. Loss: 0.6847843527793884. Accuracy: 83.43\n",
            "Iteration: 2500. Loss: 0.4612507224082947. Accuracy: 83.19\n",
            "Iteration: 3000. Loss: 0.3785364627838135. Accuracy: 83.45\n",
            "Iteration: 3500. Loss: 0.21208664774894714. Accuracy: 84.62\n",
            "Iteration: 4000. Loss: 0.2747194766998291. Accuracy: 84.97\n",
            "Iteration: 4500. Loss: 0.31498831510543823. Accuracy: 85.38\n",
            "Iteration: 5000. Loss: 0.12602560222148895. Accuracy: 85.93\n",
            "Iteration: 5500. Loss: 0.2577868700027466. Accuracy: 85.74\n",
            "Iteration: 6000. Loss: 0.4714871942996979. Accuracy: 86.32\n",
            "Iteration: 6500. Loss: 0.41347965598106384. Accuracy: 86.5\n",
            "Iteration: 7000. Loss: 0.3363909423351288. Accuracy: 85.81\n",
            "Iteration: 7500. Loss: 0.5818409323692322. Accuracy: 87.08\n",
            "Iteration: 8000. Loss: 0.18497294187545776. Accuracy: 86.7\n",
            "Iteration: 8500. Loss: 0.5997304320335388. Accuracy: 87.38\n",
            "Iteration: 9000. Loss: 0.4600881040096283. Accuracy: 85.22\n",
            "Iteration: 9500. Loss: 0.5529662370681763. Accuracy: 86.32\n",
            "Iteration: 10000. Loss: 0.422873318195343. Accuracy: 86.89\n",
            "Iteration: 10500. Loss: 0.18985410034656525. Accuracy: 86.87\n",
            "Iteration: 11000. Loss: 0.09764933586120605. Accuracy: 86.37\n",
            "Iteration: 11500. Loss: 0.6992474794387817. Accuracy: 87.51\n",
            "Iteration: 12000. Loss: 0.06531579792499542. Accuracy: 87.29\n",
            "Iteration: 12500. Loss: 0.37713858485221863. Accuracy: 87.47\n",
            "Iteration: 13000. Loss: 0.1992914229631424. Accuracy: 86.79\n",
            "Iteration: 13500. Loss: 0.3081088960170746. Accuracy: 87.42\n",
            "Iteration: 14000. Loss: 0.2412889301776886. Accuracy: 87.54\n",
            "Iteration: 14500. Loss: 0.3101022243499756. Accuracy: 87.68\n",
            "Iteration: 15000. Loss: 0.6628847718238831. Accuracy: 85.83\n",
            "Iteration: 15500. Loss: 0.2937820553779602. Accuracy: 87.49\n",
            "Iteration: 16000. Loss: 0.29465287923812866. Accuracy: 87.84\n",
            "Iteration: 16500. Loss: 0.6298394799232483. Accuracy: 87.49\n",
            "Iteration: 17000. Loss: 0.14427617192268372. Accuracy: 87.73\n",
            "Iteration: 17500. Loss: 0.22043797373771667. Accuracy: 88.06\n",
            "Iteration: 18000. Loss: 0.6677015423774719. Accuracy: 88.25\n"
          ]
        }
      ]
    },
    {
      "cell_type": "code",
      "metadata": {
        "colab": {
          "base_uri": "https://localhost:8080/",
          "height": 316
        },
        "id": "Egeoid1fNCBc",
        "outputId": "2a658bb5-e6d7-4445-d0f2-4c2a0599b093"
      },
      "source": [
        "import matplotlib\n",
        "import matplotlib.pyplot as plt\n",
        "\n",
        "print (iteration_loss)\n",
        "plt.plot(iteration_loss)\n",
        "plt.ylabel('Loss')\n",
        "plt.xlabel('Iteration (in every 500)')\n",
        "plt.show()"
      ],
      "execution_count": 12,
      "outputs": [
        {
          "output_type": "stream",
          "name": "stdout",
          "text": [
            "[0.6194232702255249, 0.5696229338645935, 0.3997284471988678, 0.6847843527793884, 0.4612507224082947, 0.3785364627838135, 0.21208664774894714, 0.2747194766998291, 0.31498831510543823, 0.12602560222148895, 0.2577868700027466, 0.4714871942996979, 0.41347965598106384, 0.3363909423351288, 0.5818409323692322, 0.18497294187545776, 0.5997304320335388, 0.4600881040096283, 0.5529662370681763, 0.422873318195343, 0.18985410034656525, 0.09764933586120605, 0.6992474794387817, 0.06531579792499542, 0.37713858485221863, 0.1992914229631424, 0.3081088960170746, 0.2412889301776886, 0.3101022243499756, 0.6628847718238831, 0.2937820553779602, 0.29465287923812866, 0.6298394799232483, 0.14427617192268372, 0.22043797373771667, 0.6677015423774719]\n"
          ]
        },
        {
          "output_type": "display_data",
          "data": {
            "image/png": "[encoded data removed]",
            "text/plain": [
              "<Figure size 432x288 with 1 Axes>"
            ]
          },
          "metadata": {
            "needs_background": "light"
          }
        }
      ]
    },
    {
      "cell_type": "code",
      "metadata": {
        "id": "elXhZZXaQRR_"
      },
      "source": [
        ""
      ],
      "execution_count": null,
      "outputs": []
    },
    {
      "cell_type": "markdown",
      "metadata": {
        "id": "EYDq9VlyQas5"
      },
      "source": [
        "For experiment 2"
      ]
    },
    {
      "cell_type": "code",
      "metadata": {
        "colab": {
          "base_uri": "https://localhost:8080/"
        },
        "id": "MjVggKBIQsiB",
        "outputId": "bb9e1adb-7023-4614-8291-a4451383b3a4"
      },
      "source": [
        "# Hyperparameters\n",
        "\n",
        "#Batch Parameters\n",
        "batch_size = 100\n",
        "num_iters = 20000\n",
        "input_dim = 28*28\n",
        "num_hidden = 100\n",
        "output_dim = 10\n",
        "\n",
        "learning_rate = 0.01\n",
        "\n",
        "num_epochs = num_iters / (len(train_set) / batch_size)\n",
        "num_epochs = int(num_epochs)\n",
        "print(num_epochs)\n",
        "\n",
        "device = torch.device(\"cuda:0\" if torch.cuda.is_available() else \"cpu\")\n",
        "\n",
        "\n",
        "\n",
        "'''\n",
        "MAKING DATASET ITERABLE\n",
        "'''\n",
        "\n",
        "train_loader = torch.utils.data.DataLoader(dataset=train_set, \n",
        "                                           batch_size=batch_size, \n",
        "                                           shuffle=True)   # It's better to shuffle the whole training dataset! \n",
        "\n",
        "test_loader = torch.utils.data.DataLoader(dataset=test_set, \n",
        "                                          batch_size=batch_size, \n",
        "                                          shuffle=False)  \n",
        "\n",
        "class DeepNeuralNetworkModel(nn.Module):\n",
        "    def __init__(self, input_size, num_classes, num_hidden):\n",
        "        super().__init__()\n",
        "\n",
        "       #First Hidden Layer\n",
        "        self.linear_1 = nn.Linear(input_size, num_hidden)\n",
        "        self.relu_1 = nn.ReLU()\n",
        "\n",
        "        #2nd Hidden Layer\n",
        "        self.linear_2 = nn.Linear(num_hidden, num_hidden)\n",
        "        self.relu_2 = nn.ReLU()\n",
        "\n",
        "         #3rd Hidden Layer\n",
        "        self.linear_3 = nn.Linear(num_hidden, num_hidden)\n",
        "        self.relu_3 = nn.Softmax(dim=0)\n",
        "\n",
        "         #4th Hidden Layer\n",
        "        self.linear_4 = nn.Linear(num_hidden, num_hidden)\n",
        "        self.relu_4 = nn.Softmax(dim=0)\n",
        "\n",
        "         #5th Hidden Layer\n",
        "        self.linear_5= nn.Linear(num_hidden, num_hidden)\n",
        "        self.relu_5= nn.Tanh()\n",
        "        \n",
        "        #6th Hidden Layer\n",
        "        self.linear_6 = nn.Linear(num_hidden, num_hidden)\n",
        "        self.relu_6 = nn.Tanh()\n",
        "\n",
        "\n",
        " \n",
        "        self.linear_out = nn.Linear(num_hidden, num_classes)\n",
        " \n",
        "    def forward(self, x):\n",
        "        out  = self.linear_1(x)\n",
        "        out = self.relu_1(out)\n",
        "        \n",
        "        out  = self.linear_2(out)\n",
        "        out = self.relu_2(out)\n",
        " \n",
        "        out  = self.linear_3(out)\n",
        "        out = self.relu_3(out)\n",
        " \n",
        "        out  = self.linear_4(out)\n",
        "        out = self.relu_4(out)\n",
        " \n",
        "        out  = self.linear_5(out)\n",
        "        out = self.relu_5(out)\n",
        " \n",
        "        out  = self.linear_6(out)\n",
        "        out = self.relu_6(out)\n",
        "\n",
        "\n",
        "        \n",
        "        \n",
        "        probas  = self.linear_out(out)\n",
        "        return probas\n",
        "\n",
        "\n",
        "# INSTANTIATE MODEL CLASS\n",
        "\n",
        "model = DeepNeuralNetworkModel(input_size = input_dim,\n",
        "                               num_classes = output_dim,\n",
        "                               num_hidden = num_hidden)\n",
        "# To enable GPU\n",
        "model.to(device)\n",
        "\n",
        "# INSTANTIATE LOSS & OPTIMIZER CLASS\n",
        "\n",
        "criterion = nn.CrossEntropyLoss()\n",
        "optimizer = torch.optim.SGD(model.parameters(), lr=learning_rate)\n",
        "\n",
        "iteration_loss = []\n",
        "iter = 0\n",
        "for epoch in range(num_epochs):\n",
        "    for i, (images, labels) in enumerate(train_loader):\n",
        "\n",
        "        images = images.view(-1, 28*28).to(device)\n",
        "        labels = labels.to(device)\n",
        "\n",
        "        # Clear gradients w.r.t. parameters\n",
        "        optimizer.zero_grad()\n",
        "\n",
        "        # Forward pass to get output/logits\n",
        "        outputs = model(images) \n",
        "\n",
        "        # Calculate Loss: softmax --> cross entropy loss\n",
        "        loss = criterion(outputs, labels)\n",
        "\n",
        "        # Getting gradients w.r.t. parameters\n",
        "        loss.backward()\n",
        "\n",
        "        # Updating parameters\n",
        "        optimizer.step()\n",
        "\n",
        "        iter += 1\n",
        "\n",
        "        if iter % 500 == 0:\n",
        "            # Calculate Accuracy         \n",
        "            correct = 0\n",
        "            total = 0\n",
        "            # Iterate through test dataset\n",
        "            for images, labels in test_loader:\n",
        "               \n",
        "                images = images.view(-1, 28*28).to(device)\n",
        "\n",
        "                # Forward pass only to get logits/output\n",
        "                outputs = model(images)\n",
        "\n",
        "                # Get predictions from the maximum value\n",
        "                _, predicted = torch.max(outputs, 1)\n",
        "\n",
        "                # Total number of labels\n",
        "                total += labels.size(0)\n",
        "\n",
        "\n",
        "                # Total correct predictions\n",
        "                if torch.cuda.is_available():\n",
        "                    correct += (predicted.cpu() == labels.cpu()).sum() \n",
        "                else:\n",
        "                    correct += (predicted == labels).sum()\n",
        "\n",
        "            accuracy = 100 * correct.item() / total\n",
        "\n",
        "            # Print Loss\n",
        "            iteration_loss.append(loss.item())\n",
        "            print('Iteration: {}. Loss: {}. Accuracy: {}'.format(iter, loss.item(), accuracy))"
      ],
      "execution_count": 14,
      "outputs": [
        {
          "output_type": "stream",
          "name": "stdout",
          "text": [
            "33\n",
            "Iteration: 500. Loss: 2.303973913192749. Accuracy: 10.0\n",
            "Iteration: 1000. Loss: 2.3035037517547607. Accuracy: 10.0\n",
            "Iteration: 1500. Loss: 2.303156852722168. Accuracy: 10.04\n",
            "Iteration: 2000. Loss: 2.3024442195892334. Accuracy: 10.0\n",
            "Iteration: 2500. Loss: 2.302306890487671. Accuracy: 10.0\n",
            "Iteration: 3000. Loss: 2.3022055625915527. Accuracy: 10.0\n",
            "Iteration: 3500. Loss: 2.301917791366577. Accuracy: 10.0\n",
            "Iteration: 4000. Loss: 2.302532911300659. Accuracy: 10.0\n",
            "Iteration: 4500. Loss: 2.3017661571502686. Accuracy: 10.13\n",
            "Iteration: 5000. Loss: 2.301816463470459. Accuracy: 10.0\n",
            "Iteration: 5500. Loss: 2.3031508922576904. Accuracy: 10.0\n",
            "Iteration: 6000. Loss: 2.3027429580688477. Accuracy: 10.0\n",
            "Iteration: 6500. Loss: 2.3024420738220215. Accuracy: 10.0\n",
            "Iteration: 7000. Loss: 2.3024039268493652. Accuracy: 10.0\n",
            "Iteration: 7500. Loss: 2.3032615184783936. Accuracy: 10.0\n",
            "Iteration: 8000. Loss: 2.301973342895508. Accuracy: 10.0\n",
            "Iteration: 8500. Loss: 2.3028578758239746. Accuracy: 10.0\n",
            "Iteration: 9000. Loss: 2.302351474761963. Accuracy: 10.0\n",
            "Iteration: 9500. Loss: 2.302647352218628. Accuracy: 10.01\n",
            "Iteration: 10000. Loss: 2.3035175800323486. Accuracy: 10.0\n",
            "Iteration: 10500. Loss: 2.3024816513061523. Accuracy: 10.0\n",
            "Iteration: 11000. Loss: 2.3015902042388916. Accuracy: 10.0\n",
            "Iteration: 11500. Loss: 2.302748203277588. Accuracy: 10.04\n",
            "Iteration: 12000. Loss: 2.302398681640625. Accuracy: 10.0\n",
            "Iteration: 12500. Loss: 2.3028175830841064. Accuracy: 10.0\n",
            "Iteration: 13000. Loss: 2.303159475326538. Accuracy: 10.0\n",
            "Iteration: 13500. Loss: 2.303687334060669. Accuracy: 10.0\n",
            "Iteration: 14000. Loss: 2.3021936416625977. Accuracy: 10.0\n",
            "Iteration: 14500. Loss: 2.3023154735565186. Accuracy: 10.0\n",
            "Iteration: 15000. Loss: 2.3027403354644775. Accuracy: 8.15\n",
            "Iteration: 15500. Loss: 2.301868438720703. Accuracy: 10.0\n",
            "Iteration: 16000. Loss: 2.302154302597046. Accuracy: 10.0\n",
            "Iteration: 16500. Loss: 2.3037188053131104. Accuracy: 10.0\n",
            "Iteration: 17000. Loss: 2.301858425140381. Accuracy: 10.0\n",
            "Iteration: 17500. Loss: 2.302699089050293. Accuracy: 10.0\n",
            "Iteration: 18000. Loss: 2.302858352661133. Accuracy: 10.0\n",
            "Iteration: 18500. Loss: 2.3022520542144775. Accuracy: 10.0\n",
            "Iteration: 19000. Loss: 2.303328037261963. Accuracy: 10.95\n",
            "Iteration: 19500. Loss: 2.3028197288513184. Accuracy: 10.19\n"
          ]
        }
      ]
    },
    {
      "cell_type": "code",
      "metadata": {
        "colab": {
          "base_uri": "https://localhost:8080/",
          "height": 316
        },
        "id": "sRwHUTSiRARF",
        "outputId": "e6ddec18-a160-426d-dad2-e0f186461848"
      },
      "source": [
        "import matplotlib\n",
        "import matplotlib.pyplot as plt\n",
        "\n",
        "print (iteration_loss)\n",
        "plt.plot(iteration_loss)\n",
        "plt.ylabel('Loss')\n",
        "plt.xlabel('Iteration (in every 500)')\n",
        "plt.show()"
      ],
      "execution_count": 15,
      "outputs": [
        {
          "output_type": "stream",
          "name": "stdout",
          "text": [
            "[2.303973913192749, 2.3035037517547607, 2.303156852722168, 2.3024442195892334, 2.302306890487671, 2.3022055625915527, 2.301917791366577, 2.302532911300659, 2.3017661571502686, 2.301816463470459, 2.3031508922576904, 2.3027429580688477, 2.3024420738220215, 2.3024039268493652, 2.3032615184783936, 2.301973342895508, 2.3028578758239746, 2.302351474761963, 2.302647352218628, 2.3035175800323486, 2.3024816513061523, 2.3015902042388916, 2.302748203277588, 2.302398681640625, 2.3028175830841064, 2.303159475326538, 2.303687334060669, 2.3021936416625977, 2.3023154735565186, 2.3027403354644775, 2.301868438720703, 2.302154302597046, 2.3037188053131104, 2.301858425140381, 2.302699089050293, 2.302858352661133, 2.3022520542144775, 2.303328037261963, 2.3028197288513184]\n"
          ]
        },
        {
          "output_type": "display_data",
          "data": {
            "image/png": "[encoded data removed]",
            "text/plain": [
              "<Figure size 432x288 with 1 Axes>"
            ]
          },
          "metadata": {
            "needs_background": "light"
          }
        }
      ]
    },
    {
      "cell_type": "code",
      "metadata": {
        "id": "nPuF3fuNVaRQ"
      },
      "source": [
        ""
      ],
      "execution_count": null,
      "outputs": []
    }
  ]
}